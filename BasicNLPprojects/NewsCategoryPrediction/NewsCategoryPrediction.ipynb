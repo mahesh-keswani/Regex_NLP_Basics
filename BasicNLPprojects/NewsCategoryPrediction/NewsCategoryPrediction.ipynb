{
 "cells": [
  {
   "cell_type": "code",
   "execution_count": 1,
   "metadata": {},
   "outputs": [],
   "source": [
    "# Importing libraries\n",
    "\n",
    "import numpy as np \n",
    "import re\n",
    "import pickle\n",
    "import nltk\n",
    "from nltk.corpus import stopwords\n",
    "from sklearn.feature_extraction.text import TfidfVectorizer\n",
    "from sklearn.model_selection import train_test_split\n",
    "from sklearn.metrics import confusion_matrix\n",
    "import pandas as pd "
   ]
  },
  {
   "cell_type": "code",
   "execution_count": 2,
   "metadata": {},
   "outputs": [
    {
     "name": "stdout",
     "output_type": "stream",
     "text": [
      "                                               STORY  SECTION\n",
      "0  But the most painful was the huge reversal in ...        3\n",
      "1  How formidable is the opposition alliance amon...        0\n",
      "2  Most Asian currencies were trading lower today...        3\n",
      "3  If you want to answer any question, click on ‘...        1\n",
      "4  In global markets, gold prices edged up today ...        3\n"
     ]
    }
   ],
   "source": [
    "excel_file = 'Data_Train.xlsx'\n",
    "dataset = pd.read_excel(excel_file)\n",
    "\n",
    "print(dataset.head())"
   ]
  },
  {
   "cell_type": "code",
   "execution_count": 3,
   "metadata": {},
   "outputs": [
    {
     "name": "stdout",
     "output_type": "stream",
     "text": [
      "['but the most painful was the huge reversal in fee income unheard of among private sector lenders essentially it means that yes bank took it for granted that fees on structured loan deals will be paid and accounted for upfront on its books as borrowers turned defaulters the fees tied to these loan deals fell off the cracks gill has now vowed to shift to a safer accounting practice of amortizing fee income rather than booking these upfront gill s move to mend past ways means that there will be no nasty surprises in the future this is good news considering that investors love a clean image and loathe uncertainties but there is no gain without pain and the promise of a strong and stable balance sheet comes with some sacrifices as well investors will have to give up the hopes of phenomenal growth a promise made by kapoor ', 'how formidable is the opposition alliance among congress jharkhand mukti morcha jmm and jharkhand vikas morcha prajatantrik ', 'most asian currencies were trading lower today south korean won was down china renminbi china offshore malaysian ringgit indonesian rupiah taiwan dollar however japanese yen was up the dollar index which measures the us currency s strength against major currencies was trading at down from its previous close of ', 'if you want to answer any question click on answer after clicking on answer you can also check out replies of other users proceed to answer either through writing or voice command if you want to ask any question click on ask a question few question prefixes are already inserted to help you with your questions after submitting your question the app will send the questions to your neighbours and will let you know how many neighbours have been asked the question click done you can click on the bell icon on the homepage of the app to follow answers to your questions ', 'in global markets gold prices edged up today as disappointing chinese factory activity data brought back concerns about the health of the global economy denting risk appetite spot gold rose to per ounce european equity markets nudged down today following weaker asian stock markets ']\n"
     ]
    }
   ],
   "source": [
    "features = []\n",
    "\n",
    "for story in dataset['STORY']:\n",
    "    story = story.lower()\n",
    "    story = re.sub(r'\\s+',' ',story)\n",
    "    story = re.sub(r'\\W',' ', story)\n",
    "    story = re.sub(r'\\d',' ',story)\n",
    "    story = re.sub(r'\\s+',' ',story)\n",
    "    \n",
    "    features.append(story)\n",
    "    \n",
    "print(features[:5])\n",
    "\n",
    "    \n",
    "    "
   ]
  },
  {
   "cell_type": "code",
   "execution_count": 4,
   "metadata": {},
   "outputs": [],
   "source": [
    "labels = [i for i in dataset['SECTION']]"
   ]
  },
  {
   "cell_type": "code",
   "execution_count": 5,
   "metadata": {},
   "outputs": [
    {
     "name": "stdout",
     "output_type": "stream",
     "text": [
      "7628\n",
      "7628\n"
     ]
    }
   ],
   "source": [
    "print(len(features))\n",
    "print(len(labels))\n"
   ]
  },
  {
   "cell_type": "code",
   "execution_count": 7,
   "metadata": {},
   "outputs": [],
   "source": [
    "df = pd.DataFrame(list(zip(features, labels)), columns = ['features', 'labels'])"
   ]
  },
  {
   "cell_type": "code",
   "execution_count": 8,
   "metadata": {},
   "outputs": [],
   "source": [
    "vectorizer = TfidfVectorizer(max_features = 5000, min_df = 3, max_df = 0.6, stop_words = stopwords.words('english'))\n",
    "X = vectorizer.fit_transform(df['features']).toarray()"
   ]
  },
  {
   "cell_type": "code",
   "execution_count": 9,
   "metadata": {},
   "outputs": [],
   "source": [
    "train_x, test_x, train_y, test_y = train_test_split(X, df['labels'], test_size = 0.25)"
   ]
  },
  {
   "cell_type": "code",
   "execution_count": 15,
   "metadata": {},
   "outputs": [],
   "source": [
    "import tensorflow as tf\n",
    "from tensorflow.contrib.keras import models , layers"
   ]
  },
  {
   "cell_type": "code",
   "execution_count": 11,
   "metadata": {},
   "outputs": [
    {
     "name": "stdout",
     "output_type": "stream",
     "text": [
      "(5721, 5000)\n",
      "(5721,)\n"
     ]
    }
   ],
   "source": [
    "print(train_x.shape)\n",
    "print(train_y.shape)\n"
   ]
  },
  {
   "cell_type": "code",
   "execution_count": 16,
   "metadata": {},
   "outputs": [],
   "source": [
    "# Defining keras model\n",
    "\n",
    "dnn_keras_model = models.Sequential()"
   ]
  },
  {
   "cell_type": "code",
   "execution_count": 17,
   "metadata": {},
   "outputs": [
    {
     "name": "stdout",
     "output_type": "stream",
     "text": [
      "WARNING:tensorflow:From C:\\Users\\renu\\AppData\\Local\\conda\\conda\\envs\\tensorflow\\lib\\site-packages\\tensorflow\\python\\ops\\resource_variable_ops.py:435: colocate_with (from tensorflow.python.framework.ops) is deprecated and will be removed in a future version.\n",
      "Instructions for updating:\n",
      "Colocations handled automatically by placer.\n"
     ]
    }
   ],
   "source": [
    "# In input_dim number of features are important not rows\n",
    "dnn_keras_model.add(layers.Dense(units = 13 , input_dim = 5000 , activation = 'relu'))\n",
    "dnn_keras_model.add(layers.Dense(units = 13 , activation = 'relu'))\n",
    "dnn_keras_model.add(layers.Dense(units = 4 ,  activation = 'softmax'))\n",
    "\n",
    "# Since we have 3 classes so output layer should have 3 neurons corresponding to each class"
   ]
  },
  {
   "cell_type": "code",
   "execution_count": 18,
   "metadata": {},
   "outputs": [],
   "source": [
    "# Since the labels are not one_hot encoded so use sparse_categorical_crossentropy\n",
    "# Since this is classification we use accuracy to check it.\n",
    "dnn_keras_model.compile(optimizer = 'adam',\n",
    "                        loss = 'sparse_categorical_crossentropy',\n",
    "                        metrics = ['accuracy'])"
   ]
  },
  {
   "cell_type": "code",
   "execution_count": 19,
   "metadata": {},
   "outputs": [
    {
     "name": "stdout",
     "output_type": "stream",
     "text": [
      "Epoch 1/50\n",
      "5721/5721 [==============================] - 5s 894us/sample - loss: 1.0561 - acc: 0.4891\n",
      "Epoch 2/50\n",
      "5721/5721 [==============================] - 1s 243us/sample - loss: 0.3695 - acc: 0.9254\n",
      "Epoch 3/50\n",
      "5721/5721 [==============================] - 1s 242us/sample - loss: 0.1053 - acc: 0.9843\n",
      "Epoch 4/50\n",
      "5721/5721 [==============================] - 1s 240us/sample - loss: 0.0500 - acc: 0.9918\n",
      "Epoch 5/50\n",
      "5721/5721 [==============================] - 1s 241us/sample - loss: 0.0293 - acc: 0.9948\n",
      "Epoch 6/50\n",
      "5721/5721 [==============================] - 1s 241us/sample - loss: 0.0191 - acc: 0.9963\n",
      "Epoch 7/50\n",
      "5721/5721 [==============================] - 1s 237us/sample - loss: 0.0134 - acc: 0.9965\n",
      "Epoch 8/50\n",
      "5721/5721 [==============================] - 1s 239us/sample - loss: 0.0105 - acc: 0.9970\n",
      "Epoch 9/50\n",
      "5721/5721 [==============================] - 1s 245us/sample - loss: 0.0086 - acc: 0.9977\n",
      "Epoch 10/50\n",
      "5721/5721 [==============================] - 1s 235us/sample - loss: 0.0079 - acc: 0.9972\n",
      "Epoch 11/50\n",
      "5721/5721 [==============================] - 1s 235us/sample - loss: 0.0065 - acc: 0.9974\n",
      "Epoch 12/50\n",
      "5721/5721 [==============================] - 1s 245us/sample - loss: 0.0064 - acc: 0.9970\n",
      "Epoch 13/50\n",
      "5721/5721 [==============================] - 1s 245us/sample - loss: 0.0057 - acc: 0.9974\n",
      "Epoch 14/50\n",
      "5721/5721 [==============================] - 1s 238us/sample - loss: 0.0055 - acc: 0.9974\n",
      "Epoch 15/50\n",
      "5721/5721 [==============================] - 1s 235us/sample - loss: 0.0050 - acc: 0.9979\n",
      "Epoch 16/50\n",
      "5721/5721 [==============================] - 1s 237us/sample - loss: 0.0055 - acc: 0.9972\n",
      "Epoch 17/50\n",
      "5721/5721 [==============================] - 1s 255us/sample - loss: 0.0049 - acc: 0.9981\n",
      "Epoch 18/50\n",
      "5721/5721 [==============================] - 1s 237us/sample - loss: 0.0048 - acc: 0.9977\n",
      "Epoch 19/50\n",
      "5721/5721 [==============================] - 1s 236us/sample - loss: 0.0048 - acc: 0.9977\n",
      "Epoch 20/50\n",
      "5721/5721 [==============================] - 1s 235us/sample - loss: 0.0052 - acc: 0.9970\n",
      "Epoch 21/50\n",
      "5721/5721 [==============================] - 1s 237us/sample - loss: 0.0047 - acc: 0.9979\n",
      "Epoch 22/50\n",
      "5721/5721 [==============================] - 1s 240us/sample - loss: 0.0049 - acc: 0.9974\n",
      "Epoch 23/50\n",
      "5721/5721 [==============================] - 1s 245us/sample - loss: 0.0046 - acc: 0.9981\n",
      "Epoch 24/50\n",
      "5721/5721 [==============================] - 1s 232us/sample - loss: 0.0047 - acc: 0.9974\n",
      "Epoch 25/50\n",
      "5721/5721 [==============================] - 1s 234us/sample - loss: 0.0047 - acc: 0.9977\n",
      "Epoch 26/50\n",
      "5721/5721 [==============================] - 1s 242us/sample - loss: 0.0046 - acc: 0.9976\n",
      "Epoch 27/50\n",
      "5721/5721 [==============================] - 1s 242us/sample - loss: 0.0046 - acc: 0.9981\n",
      "Epoch 28/50\n",
      "5721/5721 [==============================] - 1s 240us/sample - loss: 0.0044 - acc: 0.9984\n",
      "Epoch 29/50\n",
      "5721/5721 [==============================] - 1s 240us/sample - loss: 0.0046 - acc: 0.9972\n",
      "Epoch 30/50\n",
      "5721/5721 [==============================] - 1s 240us/sample - loss: 0.0043 - acc: 0.9981\n",
      "Epoch 31/50\n",
      "5721/5721 [==============================] - 1s 241us/sample - loss: 0.0044 - acc: 0.9976\n",
      "Epoch 32/50\n",
      "5721/5721 [==============================] - 1s 243us/sample - loss: 0.0045 - acc: 0.9972\n",
      "Epoch 33/50\n",
      "5721/5721 [==============================] - 1s 239us/sample - loss: 0.0045 - acc: 0.9984\n",
      "Epoch 34/50\n",
      "5721/5721 [==============================] - 1s 248us/sample - loss: 0.0046 - acc: 0.9979\n",
      "Epoch 35/50\n",
      "5721/5721 [==============================] - 1s 242us/sample - loss: 0.0042 - acc: 0.9979\n",
      "Epoch 36/50\n",
      "5721/5721 [==============================] - 1s 233us/sample - loss: 0.0045 - acc: 0.9974\n",
      "Epoch 37/50\n",
      "5721/5721 [==============================] - 1s 228us/sample - loss: 0.0045 - acc: 0.9977\n",
      "Epoch 38/50\n",
      "5721/5721 [==============================] - 1s 243us/sample - loss: 0.0044 - acc: 0.9977\n",
      "Epoch 39/50\n",
      "5721/5721 [==============================] - 1s 235us/sample - loss: 0.0042 - acc: 0.9979\n",
      "Epoch 40/50\n",
      "5721/5721 [==============================] - 1s 223us/sample - loss: 0.0041 - acc: 0.9979\n",
      "Epoch 41/50\n",
      "5721/5721 [==============================] - 1s 223us/sample - loss: 0.0047 - acc: 0.9976\n",
      "Epoch 42/50\n",
      "5721/5721 [==============================] - 1s 223us/sample - loss: 0.0044 - acc: 0.9979\n",
      "Epoch 43/50\n",
      "5721/5721 [==============================] - 1s 222us/sample - loss: 0.0047 - acc: 0.9976\n",
      "Epoch 44/50\n",
      "5721/5721 [==============================] - 1s 222us/sample - loss: 0.0042 - acc: 0.9976\n",
      "Epoch 45/50\n",
      "5721/5721 [==============================] - 1s 228us/sample - loss: 0.0043 - acc: 0.9972\n",
      "Epoch 46/50\n",
      "5721/5721 [==============================] - 1s 233us/sample - loss: 0.0047 - acc: 0.9970\n",
      "Epoch 47/50\n",
      "5721/5721 [==============================] - 1s 223us/sample - loss: 0.0041 - acc: 0.9983\n",
      "Epoch 48/50\n",
      "5721/5721 [==============================] - 1s 220us/sample - loss: 0.0045 - acc: 0.9979\n",
      "Epoch 49/50\n",
      "5721/5721 [==============================] - 1s 222us/sample - loss: 0.0042 - acc: 0.9979\n",
      "Epoch 50/50\n",
      "5721/5721 [==============================] - 1s 247us/sample - loss: 0.0047 - acc: 0.9974\n"
     ]
    },
    {
     "data": {
      "text/plain": [
       "<tensorflow.python.keras.callbacks.History at 0x2596674d860>"
      ]
     },
     "execution_count": 19,
     "metadata": {},
     "output_type": "execute_result"
    }
   ],
   "source": [
    "dnn_keras_model.fit(train_x, train_y, epochs = 50)"
   ]
  },
  {
   "cell_type": "code",
   "execution_count": 20,
   "metadata": {},
   "outputs": [],
   "source": [
    "# Note : dnn_keras_model.predict will return the softmax probabilities\n",
    "#        and dnn_keras_model.predict_classes will return classes itself\n",
    "predictions = dnn_keras_model.predict_classes(test_x)"
   ]
  },
  {
   "cell_type": "code",
   "execution_count": 22,
   "metadata": {},
   "outputs": [
    {
     "name": "stdout",
     "output_type": "stream",
     "text": [
      "              precision    recall  f1-score   support\n",
      "\n",
      "           0       0.95      0.98      0.97       385\n",
      "           1       0.99      0.97      0.98       702\n",
      "           2       0.98      0.98      0.98       498\n",
      "           3       0.98      0.99      0.98       322\n",
      "\n",
      "   micro avg       0.98      0.98      0.98      1907\n",
      "   macro avg       0.98      0.98      0.98      1907\n",
      "weighted avg       0.98      0.98      0.98      1907\n",
      "\n"
     ]
    }
   ],
   "source": [
    "from sklearn.metrics import classification_report\n",
    "print(classification_report(predictions,test_y))"
   ]
  },
  {
   "cell_type": "code",
   "execution_count": 23,
   "metadata": {},
   "outputs": [
    {
     "name": "stdout",
     "output_type": "stream",
     "text": [
      "                                               STORY\n",
      "0  2019 will see gadgets like gaming smartphones ...\n",
      "1  It has also unleashed a wave of changes in the...\n",
      "2  It can be confusing to pick the right smartpho...\n",
      "3  The mobile application is integrated with a da...\n",
      "4  We have rounded up some of the gadgets that sh...\n"
     ]
    }
   ],
   "source": [
    "# Loading Data_Test\n",
    "\n",
    "excel_file = 'Data_Test.xlsx'\n",
    "dataset = pd.read_excel(excel_file)\n",
    "\n",
    "print(dataset.head())"
   ]
  },
  {
   "cell_type": "code",
   "execution_count": 24,
   "metadata": {},
   "outputs": [
    {
     "name": "stdout",
     "output_type": "stream",
     "text": [
      "[' will see gadgets like gaming smartphones and wearable medical devices lifting the user experience to a whole new level mint india wire consumer technologyconsumer technology trends in new yeartech gadgetsfoldable phonesgaming smartphoneswearable medical devicestechnology new delhi gadgets have become an integral part of our lives with most of us relying on some form of factor to communicate commute work be informed or entertained year will see some gadgets lifting the user experience to a whole new level here s what we can expect to see smartphones with foldable screens foldable phones are finally moving from the concept stage to commercial launches they are made up of organic light emitting diode oled panels with higher plastic substrates allowing them to be bent without damage us based display maker royole corp s foldable phone flexpai has already arrived in select markets while samsung s unnamed foldable phone is expected sometime next year samsung s smartphone chief executive officer d j koh has said they will make a million units of it lg too is expected to display a foldable phone next year meanwhile apple nokia lenovo and huawei have also been working on foldable phones reportedly esim very soon your smartphone won t need a physical sim card anymore the esim technology already used by apple in its iphones and apple watch replaces the physical sim with a virtually embedded chip on the motherboard esims support multiple mobile operators and can be programmed to switch services ', 'it has also unleashed a wave of changes in the mcu that will make sure its future is a lot different than its past kevin feige had signalled diversity and more representation in the post phase mcu and endgame does a lot to showcase the initiative', 'it can be confusing to pick the right smartphone for yourself so we have segregated the top smartphones under rs according to their strengths the best smartphones under categorised according to performance camera design and battery life mint india wire phones under rs poco f realme u redmi note prorealme prohonor playnokia nova iasus zenfone max pro m gone are the days when you had to shell out big buck for buying smartphones with premium features technology has become more accessible recently and the biggest example of that lies in the sub rs category you get good performance design and even software at a reasonable price it can be confusing to pick the right smartphone for you however given the amount of variety that lies in the segment so we have segregated the top smartphones under according to their strengths so you can pick the one that suits you best this phone actually lies just north of the price point but if you have an hdfc debit or credit card you can purchase the lowest spec variant with gb ram and gb internal storage for as low as making it the cheapest smartphone to run a qualcomm snapdragon soc there s not a lot to not like about this phone it has the fastest processor qualcomm has to offer some thermal trickery to keep your smartphone cool during intense gaming sessions a very good camera and some durable plastic that doesn t shatter or pick up scratches it even gets a modded version of the miui with an app drawer that allows you colour code your applications ', 'the mobile application is integrated with a dashboard to confirm and register the pre registered cases to enable online interface between the beneficiary and the panel lawyer through video conferencing and telephone facility prasad said that a pilot project in this regard had proved useful and more than people have already availed this service till january it resulted in enabling legal advice to beneficiaries that include women sc and st in states including uttar pradesh bihar and all north eastern states and the state of jammu and kashmir he said the law minister was of the view that pro bono appearances by lawyers should be considered as a criteria for appointment as judges he was also of the view that there was a need for legal literacy in india ', 'we have rounded up some of the gadgets that showed up in and left an indelible mark on consumers experts and the tech industry youngsters playing pubg mobile on their smartphone for hours elderly switching off the lights using voice or a family watching their favourite movie in k hdr on netflix are some of the habits which were shaped by the gadgets around them we have rounded up some of the gadgets that showed up in and left an indelible mark on consumers experts and the tech industry the echo plus takes the whole iot experience up by a few notches with features such as zigbee smart hub which can find iot products on its own the temperature sensor and local voice control which works offline this is a smart fridge with built in cameras and sensors you can control the temperature look inside the fridge remotely and even mirror your tv or smartphone on its inch screen launched in india in april the google home speaker has a degree design like echo plus but comes with the google assistant its voice match feature can identity voice and one can control compatible iot devices with it the rog zephyrus is one of the slimmest and lightest notebooks driven by nvidia s top of the line gtx graphics ']\n"
     ]
    }
   ],
   "source": [
    "features = []\n",
    "\n",
    "for story in dataset['STORY']:\n",
    "    story = story.lower()\n",
    "    story = re.sub(r'\\s+',' ',story)\n",
    "    story = re.sub(r'\\W',' ', story)\n",
    "    story = re.sub(r'\\d',' ',story)\n",
    "    story = re.sub(r'\\s+',' ',story)\n",
    "    \n",
    "    features.append(story)\n",
    "    \n",
    "print(features[:5])"
   ]
  },
  {
   "cell_type": "code",
   "execution_count": 25,
   "metadata": {},
   "outputs": [],
   "source": [
    "df = pd.DataFrame(list(features), columns = ['features'])\n",
    "X = vectorizer.transform(df['features']).toarray()"
   ]
  },
  {
   "cell_type": "code",
   "execution_count": 26,
   "metadata": {},
   "outputs": [],
   "source": [
    "# Note : dnn_keras_model.predict will return the softmax probabilities\n",
    "#        and dnn_keras_model.predict_classes will return classes itself\n",
    "test_predictions = dnn_keras_model.predict_classes(X)"
   ]
  },
  {
   "cell_type": "code",
   "execution_count": 37,
   "metadata": {},
   "outputs": [],
   "source": [
    "writer = pd.ExcelWriter('news_prediction.xlsx', engine = 'xlsxwriter')"
   ]
  },
  {
   "cell_type": "code",
   "execution_count": 41,
   "metadata": {},
   "outputs": [
    {
     "data": {
      "text/html": [
       "<div>\n",
       "<style scoped>\n",
       "    .dataframe tbody tr th:only-of-type {\n",
       "        vertical-align: middle;\n",
       "    }\n",
       "\n",
       "    .dataframe tbody tr th {\n",
       "        vertical-align: top;\n",
       "    }\n",
       "\n",
       "    .dataframe thead th {\n",
       "        text-align: right;\n",
       "    }\n",
       "</style>\n",
       "<table border=\"1\" class=\"dataframe\">\n",
       "  <thead>\n",
       "    <tr style=\"text-align: right;\">\n",
       "      <th></th>\n",
       "      <th>SECTION</th>\n",
       "    </tr>\n",
       "  </thead>\n",
       "  <tbody>\n",
       "    <tr>\n",
       "      <th>0</th>\n",
       "      <td>1</td>\n",
       "    </tr>\n",
       "    <tr>\n",
       "      <th>1</th>\n",
       "      <td>2</td>\n",
       "    </tr>\n",
       "    <tr>\n",
       "      <th>2</th>\n",
       "      <td>1</td>\n",
       "    </tr>\n",
       "    <tr>\n",
       "      <th>3</th>\n",
       "      <td>0</td>\n",
       "    </tr>\n",
       "    <tr>\n",
       "      <th>4</th>\n",
       "      <td>1</td>\n",
       "    </tr>\n",
       "  </tbody>\n",
       "</table>\n",
       "</div>"
      ],
      "text/plain": [
       "   SECTION\n",
       "0        1\n",
       "1        2\n",
       "2        1\n",
       "3        0\n",
       "4        1"
      ]
     },
     "execution_count": 41,
     "metadata": {},
     "output_type": "execute_result"
    }
   ],
   "source": [
    "dataframe_for_excel = pd.DataFrame({'SECTION': test_predictions})\n",
    "\n",
    "dataframe_for_excel.reset_index(drop = True, inplace = True)\n",
    "\n",
    "dataframe_for_excel.head()"
   ]
  },
  {
   "cell_type": "code",
   "execution_count": 42,
   "metadata": {},
   "outputs": [],
   "source": [
    "dataframe_for_excel.to_excel(writer, sheet_name = 'Sheet1')"
   ]
  },
  {
   "cell_type": "code",
   "execution_count": 43,
   "metadata": {},
   "outputs": [],
   "source": [
    "writer.save()"
   ]
  },
  {
   "cell_type": "code",
   "execution_count": null,
   "metadata": {},
   "outputs": [],
   "source": []
  }
 ],
 "metadata": {
  "kernelspec": {
   "display_name": "Python 3",
   "language": "python",
   "name": "python3"
  },
  "language_info": {
   "codemirror_mode": {
    "name": "ipython",
    "version": 3
   },
   "file_extension": ".py",
   "mimetype": "text/x-python",
   "name": "python",
   "nbconvert_exporter": "python",
   "pygments_lexer": "ipython3",
   "version": "3.7.2"
  }
 },
 "nbformat": 4,
 "nbformat_minor": 2
}
